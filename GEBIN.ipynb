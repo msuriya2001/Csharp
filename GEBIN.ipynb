{
  "nbformat": 4,
  "nbformat_minor": 0,
  "metadata": {
    "colab": {
      "provenance": [],
      "authorship_tag": "ABX9TyOjDI7+i4/WNTwfZeKi/cAk",
      "include_colab_link": true
    },
    "kernelspec": {
      "name": "python3",
      "display_name": "Python 3"
    },
    "language_info": {
      "name": "python"
    }
  },
  "cells": [
    {
      "cell_type": "markdown",
      "metadata": {
        "id": "view-in-github",
        "colab_type": "text"
      },
      "source": [
        "<a href=\"https://colab.research.google.com/github/msuriya2001/Csharp/blob/main/GEBIN.ipynb\" target=\"_parent\"><img src=\"https://colab.research.google.com/assets/colab-badge.svg\" alt=\"Open In Colab\"/></a>"
      ]
    },
    {
      "cell_type": "code",
      "execution_count": 1,
      "metadata": {
        "id": "CY7pSKSe2_ys"
      },
      "outputs": [],
      "source": [
        "\n",
        "\n",
        "from numpy.random import randint\n",
        "from numpy.random import rand\n",
        "\n"
      ]
    },
    {
      "cell_type": "code",
      "source": [
        "\n",
        "\n",
        "# objective function\n",
        "def onemax(x):\n",
        "\treturn -sum(x)\n",
        "\n"
      ],
      "metadata": {
        "id": "uw3q3D9a3D1f"
      },
      "execution_count": 2,
      "outputs": []
    },
    {
      "cell_type": "code",
      "source": [
        "\n",
        "\n",
        "# tournament selection\n",
        "def selection(pop, scores, k=3):\n",
        "\t# first random selection\n",
        "\tselection_ix = randint(len(pop))\n",
        "\tfor ix in randint(0, len(pop), k-1):\n",
        "\t\t# check if better (e.g. perform a tournament)\n",
        "\t\tif scores[ix] < scores[selection_ix]:\n",
        "\t\t\tselection_ix = ix\n",
        "\treturn pop[selection_ix]\n",
        "\n"
      ],
      "metadata": {
        "id": "ZDiSZhha3E5T"
      },
      "execution_count": 3,
      "outputs": []
    },
    {
      "cell_type": "code",
      "source": [
        "\n",
        "\n",
        "# crossover two parents to create two children\n",
        "def crossover(p1, p2, r_cross):\n",
        "\t# children are copies of parents by default\n",
        "\tc1, c2 = p1.copy(), p2.copy()\n",
        "\t# check for recombination\n",
        "\tif rand() < r_cross:\n",
        "\t\t# select crossover point that is not on the end of the string\n",
        "\t\tpt = randint(1, len(p1)-2)\n",
        "\t\t# perform crossover\n",
        "\t\tc1 = p1[:pt] + p2[pt:]\n",
        "\t\tc2 = p2[:pt] + p1[pt:]\n",
        "\treturn [c1, c2]\n",
        "\n"
      ],
      "metadata": {
        "id": "J6_bEpv33GmO"
      },
      "execution_count": 4,
      "outputs": []
    },
    {
      "cell_type": "code",
      "source": [
        "\n",
        "\n",
        "# mutation operator\n",
        "def mutation(bitstring, r_mut):\n",
        "\tfor i in range(len(bitstring)):\n",
        "\t\t# check for a mutation\n",
        "\t\tif rand() < r_mut:\n",
        "\t\t\t# flip the bit\n",
        "\t\t\tbitstring[i] = 1 - bitstring[i]\n",
        "\n",
        "\n"
      ],
      "metadata": {
        "id": "aDGvVaQ93Je6"
      },
      "execution_count": 10,
      "outputs": []
    },
    {
      "cell_type": "code",
      "source": [
        "# genetic algorithm\n",
        "def genetic_algorithm(objective, n_bits, n_iter, n_pop, r_cross, r_mut):\n",
        "\t# initial population of random bitstring\n",
        "\tpop = [randint(0, 2, n_bits).tolist() for _ in range(n_pop)]\n",
        "\t# keep track of best solution\n",
        "\tbest, best_eval = 0, objective(pop[0])\n",
        "\t# enumerate generations\n",
        "\tfor gen in range(n_iter):\n",
        "\t\t# evaluate all candidates in the population\n",
        "\t\tscores = [objective(c) for c in pop]\n",
        "\t\t# check for new best solution\n",
        "\t\tfor i in range(n_pop):\n",
        "\t\t\tif scores[i] < best_eval:\n",
        "\t\t\t\tbest, best_eval = pop[i], scores[i]\n",
        "\t\t\t\tprint(\">iteration %d, new best f(%s) = %.3f\" % (gen,  pop[i], scores[i]))\n",
        "\t\t# select parents\n",
        "\t\tselected = [selection(pop, scores) for _ in range(n_pop)]\n",
        "\t\t# create the next generation\n",
        "\t\tchildren = list()\n",
        "\t\tfor i in range(0, n_pop, 2):\n",
        "\t\t\t# get selected parents in pairs\n",
        "\t\t\tp1, p2 = selected[i], selected[i+1]\n",
        "\t\t\t# crossover and mutation\n",
        "\t\t\tfor c in crossover(p1, p2, r_cross):\n",
        "\t\t\t\t# mutation\n",
        "\t\t\t\tmutation(c, r_mut)\n",
        "\t\t\t\t# store for next generation\n",
        "\t\t\t\tchildren.append(c)\n",
        "\t\t# replace population\n",
        "\t\tpop = children\n",
        "\treturn [best, best_eval]"
      ],
      "metadata": {
        "id": "HkmhADZg37_X"
      },
      "execution_count": 11,
      "outputs": []
    },
    {
      "cell_type": "code",
      "source": [
        "\n",
        "\n",
        "# define the total iterations\n",
        "n_iter = 100\n",
        "# bits\n",
        "n_bits = 20\n",
        "# define the population size\n",
        "n_pop = 100\n",
        "# crossover rate\n",
        "r_cross = 0.9\n",
        "# mutation rate\n",
        "r_mut = 1.0 / float(n_bits)\n",
        "# perform the genetic algorithm search\n",
        "print(f'Starting genetic algorithm\\n')\n",
        "best, score = genetic_algorithm(onemax, n_bits, n_iter, n_pop, r_cross, r_mut)\n",
        "print(f'\\nGenetic algorithm completed\\n')\n",
        "print(f'Best solution: {best}')\n",
        "print(f'Fitness score of the best solution: {score:.5f}')\n",
        "\n"
      ],
      "metadata": {
        "colab": {
          "base_uri": "https://localhost:8080/"
        },
        "id": "yeciNtF04wmo",
        "outputId": "9aecfdb6-fc27-4166-e00c-2148ab26b077"
      },
      "execution_count": 12,
      "outputs": [
        {
          "output_type": "stream",
          "name": "stdout",
          "text": [
            "Starting genetic algorithm\n",
            "\n",
            ">iteration 0, new best f([1, 1, 0, 1, 0, 1, 1, 1, 1, 1, 1, 1, 1, 0, 1, 1, 0, 1, 0, 0]) = -14.000\n",
            ">iteration 0, new best f([1, 1, 1, 0, 1, 1, 1, 1, 1, 1, 1, 0, 1, 0, 1, 1, 0, 1, 1, 1]) = -16.000\n",
            ">iteration 2, new best f([1, 1, 1, 1, 1, 1, 1, 1, 0, 1, 1, 1, 0, 0, 1, 1, 1, 1, 1, 1]) = -17.000\n",
            ">iteration 3, new best f([1, 1, 1, 1, 1, 1, 1, 1, 1, 1, 1, 1, 1, 0, 1, 0, 1, 1, 1, 1]) = -18.000\n",
            ">iteration 3, new best f([1, 1, 1, 1, 1, 1, 1, 0, 1, 1, 1, 1, 1, 1, 1, 1, 1, 1, 1, 1]) = -19.000\n",
            ">iteration 5, new best f([1, 1, 1, 1, 1, 1, 1, 1, 1, 1, 1, 1, 1, 1, 1, 1, 1, 1, 1, 1]) = -20.000\n",
            "\n",
            "Genetic algorithm completed\n",
            "\n",
            "Best solution: [1, 1, 1, 1, 1, 1, 1, 1, 1, 1, 1, 1, 1, 1, 1, 1, 1, 1, 1, 1]\n",
            "Fitness score of the best solution: -20.00000\n"
          ]
        }
      ]
    },
    {
      "cell_type": "code",
      "source": [],
      "metadata": {
        "id": "keQup4Hw4yJZ"
      },
      "execution_count": null,
      "outputs": []
    }
  ]
}