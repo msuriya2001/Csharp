{
  "nbformat": 4,
  "nbformat_minor": 0,
  "metadata": {
    "colab": {
      "provenance": [],
      "authorship_tag": "ABX9TyNaTUm4tDFHkVVW739434Su",
      "include_colab_link": true
    },
    "kernelspec": {
      "name": "python3",
      "display_name": "Python 3"
    },
    "language_info": {
      "name": "python"
    }
  },
  "cells": [
    {
      "cell_type": "markdown",
      "metadata": {
        "id": "view-in-github",
        "colab_type": "text"
      },
      "source": [
        "<a href=\"https://colab.research.google.com/github/msuriya2001/Csharp/blob/main/TspP.ipynb\" target=\"_parent\"><img src=\"https://colab.research.google.com/assets/colab-badge.svg\" alt=\"Open In Colab\"/></a>"
      ]
    },
    {
      "cell_type": "code",
      "execution_count": 2,
      "metadata": {
        "id": "BcA9u4tk653N"
      },
      "outputs": [],
      "source": [
        "import numpy as np\n",
        "import matplotlib.pyplot as plt\n",
        "%matplotlib inline\n",
        "%config InlineBackend.figure_format = 'svg'\n",
        "plt.style.use(\"seaborn\")\n",
        "np.random.seed(42)\n",
        "cities = [0, 1, 2, 3, 4]\n",
        "\n",
        "adjacency_mat = np.asarray(\n",
        "    [\n",
        "        [0.00, 28.02, 17.12, 27.46, 46.07],\n",
        "        [28.02, 0.00, 34.00, 25.55, 25.55],\n",
        "        [17.12, 34.00, 0.00, 18.03, 57.38],\n",
        "        [27.46, 25.55, 18.03, 0.00, 51.11],\n",
        "        [46.07, 25.55, 57.38, 51.11, 0.00],\n",
        "    ]\n",
        ")\n"
      ]
    },
    {
      "cell_type": "code",
      "source": [
        "def init_population(cities, adjacency_mat, n_population):\n",
        "    return Population(\n",
        "        np.asarray([np.random.permutation(cities) for _ in range(n_population)]), \n",
        "        adjacency_mat\n",
        "    )"
      ],
      "metadata": {
        "id": "gBMWftJD8ITA"
      },
      "execution_count": 4,
      "outputs": []
    },
    {
      "cell_type": "code",
      "source": [
        "def swap(chromosome):\n",
        "    a, b = np.random.choice(len(chromosome), 2)\n",
        "    chromosome[a], chromosome[b] = (\n",
        "        chromosome[b],\n",
        "        chromosome[a],\n",
        "    )\n",
        "    return chromosome\n"
      ],
      "metadata": {
        "id": "n83LOXVN9fWx"
      },
      "execution_count": 6,
      "outputs": []
    },
    {
      "cell_type": "code",
      "source": [],
      "metadata": {
        "id": "yopACiti-Bh5"
      },
      "execution_count": 7,
      "outputs": []
    },
    {
      "cell_type": "code",
      "source": [
        "class Population():\n",
        "    def __init__(self, bag, adjacency_mat):\n",
        "        self.bag = bag\n",
        "        self.parents = []\n",
        "        self.score = 0\n",
        "        self.best = None\n",
        "        self.adjacency_mat = adjacency_mat\n",
        "    \n",
        "    def evaluate(self):\n",
        "        distances = np.asarray(\n",
        "            [self.fitness(chromosome) for chromosome in self.bag]\n",
        "        )\n",
        "        self.score = np.min(distances)\n",
        "        self.best = self.bag[distances.tolist().index(self.score)]\n",
        "        self.parents.append(self.best)\n",
        "        if  False in (distances[0] == distances):\n",
        "            distances = np.max(distances) - distances\n",
        "        return distances / np.sum(distances)\n",
        "    \n",
        "    \n",
        "\n",
        "        Population.evaluate = evaluate\n",
        "    \n",
        "\n",
        "    def select(self, k=4):\n",
        "        fit = self.evaluate()\n",
        "        while len(self.parents) < k:\n",
        "            idx = np.random.randint(0, len(fit))\n",
        "            if  fit[idx] > np.random.rand():\n",
        "                self.parents.append(self.bag[idx])\n",
        "        self.parents = np.asarray(self.parents)\n",
        "\n",
        "        # Population.select = select\n",
        "\n",
        "\n",
        "    def crossover(self, p_cross=0.1):\n",
        "        children = []\n",
        "        count, size = self.parents.shape\n",
        "        for _ in range(len(self.bag)):\n",
        "            if np.random.rand() > p_cross:\n",
        "                children.append(\n",
        "                    list(self.parents[np.random.randint(count, size=1)[0]])\n",
        "            )\n",
        "            else:\n",
        "                parent1, parent2 = self.parents[\n",
        "                    np.random.randint(count, size=2), :\n",
        "                ]\n",
        "                idx = np.random.choice(range(size), size=2, replace=False)\n",
        "                start, end = min(idx), max(idx)\n",
        "                child = [None] * size\n",
        "                for i in range(start, end + 1, 1):\n",
        "                    child[i] = parent1[i]\n",
        "                pointer = 0\n",
        "                for i in range(size):\n",
        "                    if child[i] is None:\n",
        "                        while parent2[pointer] in child:\n",
        "                            pointer += 1\n",
        "                        child[i] = parent2[pointer]\n",
        "                    children.append(child)\n",
        "            return children\n",
        "\n",
        "# Population.crossover = crossover\n",
        "    def mutate(self, p_cross=0.1, p_mut=0.1):\n",
        "        next_bag = []\n",
        "        children = self.crossover(p_cross)\n",
        "        for child in children:\n",
        "            if np.random.rand() < p_mut:\n",
        "                next_bag.append(swap(child))\n",
        "            else:\n",
        "                next_bag.append(child)\n",
        "        return next_bag\n",
        "    \n",
        "# Population.mutate = mutate\n",
        "\n",
        "\n",
        "\n",
        "\n",
        "    \n",
        "\n"
      ],
      "metadata": {
        "id": "-RsZWL_u68qA"
      },
      "execution_count": 14,
      "outputs": []
    },
    {
      "cell_type": "code",
      "source": [
        "def fitness(self, chromosome):\n",
        "    return sum(\n",
        "        [\n",
        "            self.adjacency_mat[chromosome[i], chromosome[i + 1]]\n",
        "            for i in range(len(chromosome) - 1)\n",
        "        ]\n",
        "    )\n",
        "\n",
        "Population.fitness = fitness"
      ],
      "metadata": {
        "id": "qXPCKk0g8vaU"
      },
      "execution_count": 15,
      "outputs": []
    },
    {
      "cell_type": "code",
      "source": [
        "def genetic_algorithm(\n",
        "    cities,\n",
        "    adjacency_mat,\n",
        "    n_population=5,\n",
        "    n_iter=60,\n",
        "    selectivity=0.15,\n",
        "    p_cross=0.5,\n",
        "    p_mut=0.1,\n",
        "    print_interval=100,\n",
        "    return_history=False,\n",
        "    verbose=False,\n",
        "):\n",
        "    pop = init_population(cities, adjacency_mat, n_population)\n",
        "    best = pop.best\n",
        "    score = float(\"inf\")\n",
        "    history = []\n",
        "    for i in range(n_iter):\n",
        "        pop.select(n_population * selectivity)\n",
        "        history.append(pop.score)\n",
        "        if verbose:\n",
        "            print(f\"Generation {i}: {pop.score}\")\n",
        "        elif i % print_interval == 0:\n",
        "            print(f\"Generation {i}: {pop.score}\")\n",
        "        if pop.score < score:\n",
        "            best = pop.best\n",
        "            score = pop.score\n",
        "        children = pop.mutate(p_cross, p_mut)\n",
        "        pop = Population(children, pop.adjacency_mat)\n",
        "    if return_history:\n",
        "        return best, history\n",
        "    return best"
      ],
      "metadata": {
        "id": "dGgZ77BH8zZj"
      },
      "execution_count": 26,
      "outputs": []
    },
    {
      "cell_type": "code",
      "source": [
        "genetic_algorithm(cities, adjacency_mat, verbose=True)"
      ],
      "metadata": {
        "colab": {
          "base_uri": "https://localhost:8080/"
        },
        "id": "1VhnVpxd-JEy",
        "outputId": "f3a837bc-178e-435c-a56a-6515efb2aae9"
      },
      "execution_count": 27,
      "outputs": [
        {
          "output_type": "stream",
          "name": "stdout",
          "text": [
            "Generation 0: 117.11000000000001\n",
            "Generation 1: 117.11000000000001\n",
            "Generation 2: 117.11000000000001\n",
            "Generation 3: 117.11000000000001\n",
            "Generation 4: 99.06\n",
            "Generation 5: 99.06\n",
            "Generation 6: 99.06\n",
            "Generation 7: 99.06\n",
            "Generation 8: 99.06\n",
            "Generation 9: 99.06\n",
            "Generation 10: 99.06\n",
            "Generation 11: 99.06\n",
            "Generation 12: 99.06\n",
            "Generation 13: 99.06\n",
            "Generation 14: 99.06\n",
            "Generation 15: 99.06\n",
            "Generation 16: 99.06\n",
            "Generation 17: 99.06\n",
            "Generation 18: 99.06\n",
            "Generation 19: 99.06\n",
            "Generation 20: 99.06\n",
            "Generation 21: 99.06\n",
            "Generation 22: 99.06\n",
            "Generation 23: 99.06\n",
            "Generation 24: 99.06\n",
            "Generation 25: 131.16\n",
            "Generation 26: 131.16\n",
            "Generation 27: 131.16\n",
            "Generation 28: 114.28\n",
            "Generation 29: 128.42000000000002\n",
            "Generation 30: 128.42000000000002\n",
            "Generation 31: 111.81\n",
            "Generation 32: 111.81\n",
            "Generation 33: 86.25\n",
            "Generation 34: 86.25\n",
            "Generation 35: 86.25\n",
            "Generation 36: 86.25\n",
            "Generation 37: 86.25\n",
            "Generation 38: 86.25\n",
            "Generation 39: 86.25\n",
            "Generation 40: 86.25\n",
            "Generation 41: 86.25\n",
            "Generation 42: 86.25\n",
            "Generation 43: 86.25\n",
            "Generation 44: 95.68\n",
            "Generation 45: 95.68\n",
            "Generation 46: 95.68\n",
            "Generation 47: 104.13\n",
            "Generation 48: 159.2\n",
            "Generation 49: 159.2\n",
            "Generation 50: 159.2\n",
            "Generation 51: 159.2\n",
            "Generation 52: 153.63\n",
            "Generation 53: 153.63\n",
            "Generation 54: 153.63\n",
            "Generation 55: 153.63\n",
            "Generation 56: 153.63\n",
            "Generation 57: 153.63\n",
            "Generation 58: 153.63\n",
            "Generation 59: 153.63\n"
          ]
        },
        {
          "output_type": "execute_result",
          "data": {
            "text/plain": [
              "[4, 1, 3, 2, 0]"
            ]
          },
          "metadata": {},
          "execution_count": 27
        }
      ]
    },
    {
      "cell_type": "code",
      "source": [
        "best, history = genetic_algorithm(\n",
        "    cities,\n",
        "    adjacency_mat,\n",
        "    n_iter=100,\n",
        "    verbose=False,\n",
        "    print_interval=20,\n",
        "    return_history=True,\n",
        ")\n",
        "\n",
        "plt.plot(range(len(history)), history, color=\"skyblue\")\n",
        "plt.show()\n",
        "print(best)\n"
      ],
      "metadata": {
        "colab": {
          "base_uri": "https://localhost:8080/",
          "height": 565
        },
        "id": "m6i8-Xyi-LRn",
        "outputId": "e0fcb417-d668-4f84-c0b0-f3cddfb23aec"
      },
      "execution_count": 28,
      "outputs": [
        {
          "output_type": "stream",
          "name": "stdout",
          "text": [
            "Generation 0: 111.81\n",
            "Generation 20: 114.29\n",
            "Generation 40: 121.24000000000001\n",
            "Generation 60: 153.63000000000002\n",
            "Generation 80: 123.65\n"
          ]
        },
        {
          "output_type": "display_data",
          "data": {
            "text/plain": [
              "<Figure size 576x396 with 1 Axes>"
            ],
            "image/svg+xml": "<?xml version=\"1.0\" encoding=\"utf-8\" standalone=\"no\"?>\n<!DOCTYPE svg PUBLIC \"-//W3C//DTD SVG 1.1//EN\"\n  \"http://www.w3.org/Graphics/SVG/1.1/DTD/svg11.dtd\">\n<!-- Created with matplotlib (https://matplotlib.org/) -->\n<svg height=\"329.701875pt\" version=\"1.1\" viewBox=\"0 0 484.482812 329.701875\" width=\"484.482812pt\" xmlns=\"http://www.w3.org/2000/svg\" xmlns:xlink=\"http://www.w3.org/1999/xlink\">\n <defs>\n  <style type=\"text/css\">\n*{stroke-linecap:butt;stroke-linejoin:round;}\n  </style>\n </defs>\n <g id=\"figure_1\">\n  <g id=\"patch_1\">\n   <path d=\"M 0 329.701875 \nL 484.482812 329.701875 \nL 484.482812 0 \nL 0 0 \nz\n\" style=\"fill:#ffffff;\"/>\n  </g>\n  <g id=\"axes_1\">\n   <g id=\"patch_2\">\n    <path d=\"M 30.882812 306.18 \nL 477.282812 306.18 \nL 477.282812 7.2 \nL 30.882812 7.2 \nz\n\" style=\"fill:#eaeaf2;\"/>\n   </g>\n   <g id=\"matplotlib.axis_1\">\n    <g id=\"xtick_1\">\n     <g id=\"line2d_1\">\n      <path clip-path=\"url(#p16ecf91752)\" d=\"M 51.173722 306.18 \nL 51.173722 7.2 \n\" style=\"fill:none;stroke:#ffffff;stroke-linecap:round;\"/>\n     </g>\n     <g id=\"line2d_2\"/>\n     <g id=\"text_1\">\n      <!-- 0 -->\n      <defs>\n       <path d=\"M 51.703125 34.421875 \nQ 51.703125 24.515625 49.828125 17.75 \nQ 47.953125 10.984375 44.703125 6.8125 \nQ 41.453125 2.640625 37.0625 0.828125 \nQ 32.671875 -0.984375 27.6875 -0.984375 \nQ 22.65625 -0.984375 18.3125 0.828125 \nQ 13.96875 2.640625 10.765625 6.78125 \nQ 7.5625 10.9375 5.734375 17.703125 \nQ 3.90625 24.46875 3.90625 34.421875 \nQ 3.90625 44.828125 5.734375 51.640625 \nQ 7.5625 58.453125 10.78125 62.5 \nQ 14.015625 66.546875 18.40625 68.1875 \nQ 22.796875 69.828125 27.984375 69.828125 \nQ 32.90625 69.828125 37.21875 68.1875 \nQ 41.546875 66.546875 44.765625 62.5 \nQ 48 58.453125 49.84375 51.640625 \nQ 51.703125 44.828125 51.703125 34.421875 \nz\nM 42.78125 34.421875 \nQ 42.78125 42.625 41.796875 48.0625 \nQ 40.828125 53.515625 38.921875 56.765625 \nQ 37.015625 60.015625 34.25 61.359375 \nQ 31.5 62.703125 27.984375 62.703125 \nQ 24.265625 62.703125 21.4375 61.328125 \nQ 18.609375 59.96875 16.671875 56.71875 \nQ 14.75 53.46875 13.765625 48.015625 \nQ 12.796875 42.578125 12.796875 34.421875 \nQ 12.796875 26.515625 13.796875 21.09375 \nQ 14.796875 15.671875 16.71875 12.375 \nQ 18.65625 9.078125 21.4375 7.640625 \nQ 24.21875 6.203125 27.78125 6.203125 \nQ 31.25 6.203125 34.03125 7.640625 \nQ 36.8125 9.078125 38.734375 12.375 \nQ 40.671875 15.671875 41.71875 21.09375 \nQ 42.78125 26.515625 42.78125 34.421875 \nz\n\" id=\"LiberationSans-48\"/>\n      </defs>\n      <g style=\"fill:#262626;\" transform=\"translate(48.393253 320.426875)scale(0.1 -0.1)\">\n       <use xlink:href=\"#LiberationSans-48\"/>\n      </g>\n     </g>\n    </g>\n    <g id=\"xtick_2\">\n     <g id=\"line2d_3\">\n      <path clip-path=\"url(#p16ecf91752)\" d=\"M 133.157193 306.18 \nL 133.157193 7.2 \n\" style=\"fill:none;stroke:#ffffff;stroke-linecap:round;\"/>\n     </g>\n     <g id=\"line2d_4\"/>\n     <g id=\"text_2\">\n      <!-- 20 -->\n      <defs>\n       <path d=\"M 5.03125 0 \nL 5.03125 6.203125 \nQ 7.515625 11.921875 11.109375 16.28125 \nQ 14.703125 20.65625 18.65625 24.1875 \nQ 22.609375 27.734375 26.484375 30.765625 \nQ 30.375 33.796875 33.5 36.8125 \nQ 36.625 39.84375 38.546875 43.15625 \nQ 40.484375 46.484375 40.484375 50.6875 \nQ 40.484375 53.609375 39.59375 55.828125 \nQ 38.71875 58.0625 37.0625 59.5625 \nQ 35.40625 61.078125 33.078125 61.828125 \nQ 30.765625 62.59375 27.9375 62.59375 \nQ 25.296875 62.59375 22.96875 61.859375 \nQ 20.65625 61.140625 18.84375 59.671875 \nQ 17.046875 58.203125 15.890625 56.03125 \nQ 14.75 53.859375 14.40625 50.984375 \nL 5.421875 51.8125 \nQ 5.859375 55.515625 7.46875 58.78125 \nQ 9.078125 62.0625 11.90625 64.53125 \nQ 14.75 67 18.71875 68.40625 \nQ 22.703125 69.828125 27.9375 69.828125 \nQ 33.0625 69.828125 37.0625 68.609375 \nQ 41.0625 67.390625 43.8125 64.984375 \nQ 46.578125 62.59375 48.046875 59.078125 \nQ 49.515625 55.5625 49.515625 50.984375 \nQ 49.515625 47.515625 48.265625 44.390625 \nQ 47.015625 41.265625 44.9375 38.421875 \nQ 42.875 35.59375 40.140625 32.953125 \nQ 37.40625 30.328125 34.421875 27.8125 \nQ 31.453125 25.296875 28.421875 22.828125 \nQ 25.390625 20.359375 22.71875 17.859375 \nQ 20.0625 15.375 17.96875 12.8125 \nQ 15.875 10.25 14.703125 7.46875 \nL 50.59375 7.46875 \nL 50.59375 0 \nz\n\" id=\"LiberationSans-50\"/>\n      </defs>\n      <g style=\"fill:#262626;\" transform=\"translate(127.596255 320.426875)scale(0.1 -0.1)\">\n       <use xlink:href=\"#LiberationSans-50\"/>\n       <use x=\"55.615234\" xlink:href=\"#LiberationSans-48\"/>\n      </g>\n     </g>\n    </g>\n    <g id=\"xtick_3\">\n     <g id=\"line2d_5\">\n      <path clip-path=\"url(#p16ecf91752)\" d=\"M 215.140664 306.18 \nL 215.140664 7.2 \n\" style=\"fill:none;stroke:#ffffff;stroke-linecap:round;\"/>\n     </g>\n     <g id=\"line2d_6\"/>\n     <g id=\"text_3\">\n      <!-- 40 -->\n      <defs>\n       <path d=\"M 43.015625 15.578125 \nL 43.015625 0 \nL 34.71875 0 \nL 34.71875 15.578125 \nL 2.296875 15.578125 \nL 2.296875 22.40625 \nL 33.796875 68.796875 \nL 43.015625 68.796875 \nL 43.015625 22.515625 \nL 52.6875 22.515625 \nL 52.6875 15.578125 \nz\nM 34.71875 58.890625 \nQ 34.625 58.640625 34.234375 57.9375 \nQ 33.84375 57.234375 33.34375 56.34375 \nQ 32.859375 55.46875 32.34375 54.5625 \nQ 31.84375 53.65625 31.453125 53.078125 \nL 13.8125 27.09375 \nQ 13.578125 26.703125 13.109375 26.0625 \nQ 12.640625 25.4375 12.15625 24.78125 \nQ 11.671875 24.125 11.171875 23.484375 \nQ 10.6875 22.859375 10.40625 22.515625 \nL 34.71875 22.515625 \nz\n\" id=\"LiberationSans-52\"/>\n      </defs>\n      <g style=\"fill:#262626;\" transform=\"translate(209.579726 320.426875)scale(0.1 -0.1)\">\n       <use xlink:href=\"#LiberationSans-52\"/>\n       <use x=\"55.615234\" xlink:href=\"#LiberationSans-48\"/>\n      </g>\n     </g>\n    </g>\n    <g id=\"xtick_4\">\n     <g id=\"line2d_7\">\n      <path clip-path=\"url(#p16ecf91752)\" d=\"M 297.124135 306.18 \nL 297.124135 7.2 \n\" style=\"fill:none;stroke:#ffffff;stroke-linecap:round;\"/>\n     </g>\n     <g id=\"line2d_8\"/>\n     <g id=\"text_4\">\n      <!-- 60 -->\n      <defs>\n       <path d=\"M 51.21875 22.515625 \nQ 51.21875 17.328125 49.78125 13 \nQ 48.34375 8.6875 45.53125 5.578125 \nQ 42.71875 2.484375 38.5625 0.75 \nQ 34.421875 -0.984375 29 -0.984375 \nQ 23 -0.984375 18.5 1.3125 \nQ 14.015625 3.609375 11.03125 7.921875 \nQ 8.0625 12.25 6.5625 18.53125 \nQ 5.078125 24.8125 5.078125 32.8125 \nQ 5.078125 42 6.765625 48.921875 \nQ 8.453125 55.859375 11.625 60.5 \nQ 14.796875 65.140625 19.359375 67.484375 \nQ 23.921875 69.828125 29.6875 69.828125 \nQ 33.203125 69.828125 36.28125 69.09375 \nQ 39.359375 68.359375 41.875 66.71875 \nQ 44.390625 65.09375 46.28125 62.40625 \nQ 48.1875 59.71875 49.3125 55.8125 \nL 40.921875 54.296875 \nQ 39.546875 58.734375 36.546875 60.71875 \nQ 33.546875 62.703125 29.59375 62.703125 \nQ 25.984375 62.703125 23.046875 60.984375 \nQ 20.125 59.28125 18.0625 55.875 \nQ 16.015625 52.484375 14.90625 47.359375 \nQ 13.8125 42.234375 13.8125 35.40625 \nQ 16.21875 39.84375 20.5625 42.15625 \nQ 24.90625 44.484375 30.515625 44.484375 \nQ 35.203125 44.484375 39.015625 42.96875 \nQ 42.828125 41.453125 45.53125 38.59375 \nQ 48.25 35.75 49.734375 31.671875 \nQ 51.21875 27.59375 51.21875 22.515625 \nz\nM 42.28125 22.125 \nQ 42.28125 25.6875 41.40625 28.5625 \nQ 40.53125 31.453125 38.765625 33.46875 \nQ 37.015625 35.5 34.421875 36.59375 \nQ 31.84375 37.703125 28.421875 37.703125 \nQ 26.03125 37.703125 23.578125 36.984375 \nQ 21.140625 36.28125 19.15625 34.6875 \nQ 17.1875 33.109375 15.9375 30.515625 \nQ 14.703125 27.9375 14.703125 24.21875 \nQ 14.703125 20.40625 15.671875 17.109375 \nQ 16.65625 13.8125 18.484375 11.375 \nQ 20.3125 8.9375 22.890625 7.515625 \nQ 25.484375 6.109375 28.71875 6.109375 \nQ 31.890625 6.109375 34.40625 7.203125 \nQ 36.921875 8.296875 38.671875 10.375 \nQ 40.4375 12.453125 41.359375 15.421875 \nQ 42.28125 18.40625 42.28125 22.125 \nz\n\" id=\"LiberationSans-54\"/>\n      </defs>\n      <g style=\"fill:#262626;\" transform=\"translate(291.563197 320.426875)scale(0.1 -0.1)\">\n       <use xlink:href=\"#LiberationSans-54\"/>\n       <use x=\"55.615234\" xlink:href=\"#LiberationSans-48\"/>\n      </g>\n     </g>\n    </g>\n    <g id=\"xtick_5\">\n     <g id=\"line2d_9\">\n      <path clip-path=\"url(#p16ecf91752)\" d=\"M 379.107606 306.18 \nL 379.107606 7.2 \n\" style=\"fill:none;stroke:#ffffff;stroke-linecap:round;\"/>\n     </g>\n     <g id=\"line2d_10\"/>\n     <g id=\"text_5\">\n      <!-- 80 -->\n      <defs>\n       <path d=\"M 51.265625 19.1875 \nQ 51.265625 14.796875 49.875 11.109375 \nQ 48.484375 7.421875 45.625 4.734375 \nQ 42.78125 2.046875 38.328125 0.53125 \nQ 33.890625 -0.984375 27.828125 -0.984375 \nQ 21.78125 -0.984375 17.359375 0.53125 \nQ 12.9375 2.046875 10.03125 4.703125 \nQ 7.125 7.375 5.734375 11.0625 \nQ 4.34375 14.75 4.34375 19.09375 \nQ 4.34375 22.859375 5.484375 25.78125 \nQ 6.640625 28.71875 8.5625 30.828125 \nQ 10.5 32.953125 12.96875 34.25 \nQ 15.4375 35.546875 18.0625 35.984375 \nL 18.0625 36.1875 \nQ 15.1875 36.859375 12.90625 38.375 \nQ 10.640625 39.890625 9.09375 42.015625 \nQ 7.5625 44.140625 6.75 46.71875 \nQ 5.953125 49.3125 5.953125 52.203125 \nQ 5.953125 55.8125 7.34375 59 \nQ 8.734375 62.203125 11.46875 64.625 \nQ 14.203125 67.046875 18.25 68.4375 \nQ 22.3125 69.828125 27.640625 69.828125 \nQ 33.25 69.828125 37.375 68.40625 \nQ 41.5 67 44.203125 64.578125 \nQ 46.921875 62.15625 48.234375 58.9375 \nQ 49.5625 55.71875 49.5625 52.09375 \nQ 49.5625 49.265625 48.75 46.671875 \nQ 47.953125 44.09375 46.40625 41.96875 \nQ 44.875 39.84375 42.59375 38.34375 \nQ 40.328125 36.859375 37.359375 36.28125 \nL 37.359375 36.078125 \nQ 40.328125 35.59375 42.859375 34.296875 \nQ 45.40625 33.015625 47.265625 30.890625 \nQ 49.125 28.765625 50.1875 25.828125 \nQ 51.265625 22.90625 51.265625 19.1875 \nz\nM 40.4375 51.609375 \nQ 40.4375 54.203125 39.765625 56.34375 \nQ 39.109375 58.5 37.59375 60.03125 \nQ 36.078125 61.578125 33.640625 62.421875 \nQ 31.203125 63.28125 27.640625 63.28125 \nQ 24.171875 63.28125 21.78125 62.421875 \nQ 19.390625 61.578125 17.84375 60.03125 \nQ 16.3125 58.5 15.625 56.34375 \nQ 14.9375 54.203125 14.9375 51.609375 \nQ 14.9375 49.5625 15.46875 47.40625 \nQ 16.015625 45.265625 17.421875 43.5 \nQ 18.84375 41.75 21.328125 40.625 \nQ 23.828125 39.5 27.734375 39.5 \nQ 31.890625 39.5 34.40625 40.625 \nQ 36.921875 41.75 38.25 43.5 \nQ 39.59375 45.265625 40.015625 47.40625 \nQ 40.4375 49.5625 40.4375 51.609375 \nz\nM 42.140625 20.015625 \nQ 42.140625 22.515625 41.453125 24.828125 \nQ 40.765625 27.15625 39.109375 28.9375 \nQ 37.453125 30.71875 34.640625 31.8125 \nQ 31.84375 32.90625 27.640625 32.90625 \nQ 23.78125 32.90625 21.0625 31.8125 \nQ 18.359375 30.71875 16.671875 28.90625 \nQ 14.984375 27.09375 14.203125 24.71875 \nQ 13.421875 22.359375 13.421875 19.828125 \nQ 13.421875 16.65625 14.203125 14.03125 \nQ 14.984375 11.421875 16.6875 9.546875 \nQ 18.40625 7.671875 21.1875 6.640625 \nQ 23.96875 5.609375 27.9375 5.609375 \nQ 31.9375 5.609375 34.671875 6.640625 \nQ 37.40625 7.671875 39.0625 9.546875 \nQ 40.71875 11.421875 41.421875 14.078125 \nQ 42.140625 16.75 42.140625 20.015625 \nz\n\" id=\"LiberationSans-56\"/>\n      </defs>\n      <g style=\"fill:#262626;\" transform=\"translate(373.546668 320.426875)scale(0.1 -0.1)\">\n       <use xlink:href=\"#LiberationSans-56\"/>\n       <use x=\"55.615234\" xlink:href=\"#LiberationSans-48\"/>\n      </g>\n     </g>\n    </g>\n    <g id=\"xtick_6\">\n     <g id=\"line2d_11\">\n      <path clip-path=\"url(#p16ecf91752)\" d=\"M 461.091077 306.18 \nL 461.091077 7.2 \n\" style=\"fill:none;stroke:#ffffff;stroke-linecap:round;\"/>\n     </g>\n     <g id=\"line2d_12\"/>\n     <g id=\"text_6\">\n      <!-- 100 -->\n      <defs>\n       <path d=\"M 7.625 0 \nL 7.625 7.46875 \nL 25.140625 7.46875 \nL 25.140625 60.40625 \nL 9.625 49.3125 \nL 9.625 57.625 \nL 25.875 68.796875 \nL 33.984375 68.796875 \nL 33.984375 7.46875 \nL 50.734375 7.46875 \nL 50.734375 0 \nz\n\" id=\"LiberationSans-49\"/>\n      </defs>\n      <g style=\"fill:#262626;\" transform=\"translate(452.749671 320.426875)scale(0.1 -0.1)\">\n       <use xlink:href=\"#LiberationSans-49\"/>\n       <use x=\"55.615234\" xlink:href=\"#LiberationSans-48\"/>\n       <use x=\"111.230469\" xlink:href=\"#LiberationSans-48\"/>\n      </g>\n     </g>\n    </g>\n   </g>\n   <g id=\"matplotlib.axis_2\">\n    <g id=\"ytick_1\">\n     <g id=\"line2d_13\">\n      <path clip-path=\"url(#p16ecf91752)\" d=\"M 30.882812 275.629492 \nL 477.282812 275.629492 \n\" style=\"fill:none;stroke:#ffffff;stroke-linecap:round;\"/>\n     </g>\n     <g id=\"line2d_14\"/>\n     <g id=\"text_7\">\n      <!-- 100 -->\n      <g style=\"fill:#262626;\" transform=\"translate(7.2 279.252929)scale(0.1 -0.1)\">\n       <use xlink:href=\"#LiberationSans-49\"/>\n       <use x=\"55.615234\" xlink:href=\"#LiberationSans-48\"/>\n       <use x=\"111.230469\" xlink:href=\"#LiberationSans-48\"/>\n      </g>\n     </g>\n    </g>\n    <g id=\"ytick_2\">\n     <g id=\"line2d_15\">\n      <path clip-path=\"url(#p16ecf91752)\" d=\"M 30.882812 236.369055 \nL 477.282812 236.369055 \n\" style=\"fill:none;stroke:#ffffff;stroke-linecap:round;\"/>\n     </g>\n     <g id=\"line2d_16\"/>\n     <g id=\"text_8\">\n      <!-- 110 -->\n      <g style=\"fill:#262626;\" transform=\"translate(7.2 239.992493)scale(0.1 -0.1)\">\n       <use xlink:href=\"#LiberationSans-49\"/>\n       <use x=\"55.615234\" xlink:href=\"#LiberationSans-49\"/>\n       <use x=\"111.230469\" xlink:href=\"#LiberationSans-48\"/>\n      </g>\n     </g>\n    </g>\n    <g id=\"ytick_3\">\n     <g id=\"line2d_17\">\n      <path clip-path=\"url(#p16ecf91752)\" d=\"M 30.882812 197.108619 \nL 477.282812 197.108619 \n\" style=\"fill:none;stroke:#ffffff;stroke-linecap:round;\"/>\n     </g>\n     <g id=\"line2d_18\"/>\n     <g id=\"text_9\">\n      <!-- 120 -->\n      <g style=\"fill:#262626;\" transform=\"translate(7.2 200.732057)scale(0.1 -0.1)\">\n       <use xlink:href=\"#LiberationSans-49\"/>\n       <use x=\"55.615234\" xlink:href=\"#LiberationSans-50\"/>\n       <use x=\"111.230469\" xlink:href=\"#LiberationSans-48\"/>\n      </g>\n     </g>\n    </g>\n    <g id=\"ytick_4\">\n     <g id=\"line2d_19\">\n      <path clip-path=\"url(#p16ecf91752)\" d=\"M 30.882812 157.848183 \nL 477.282812 157.848183 \n\" style=\"fill:none;stroke:#ffffff;stroke-linecap:round;\"/>\n     </g>\n     <g id=\"line2d_20\"/>\n     <g id=\"text_10\">\n      <!-- 130 -->\n      <defs>\n       <path d=\"M 51.21875 19 \nQ 51.21875 14.265625 49.671875 10.546875 \nQ 48.140625 6.84375 45.1875 4.265625 \nQ 42.234375 1.703125 37.859375 0.359375 \nQ 33.5 -0.984375 27.875 -0.984375 \nQ 21.484375 -0.984375 17.109375 0.609375 \nQ 12.75 2.203125 9.90625 4.8125 \nQ 7.078125 7.421875 5.65625 10.765625 \nQ 4.25 14.109375 3.8125 17.671875 \nL 12.890625 18.5 \nQ 13.28125 15.765625 14.328125 13.515625 \nQ 15.375 11.28125 17.1875 9.671875 \nQ 19 8.0625 21.625 7.171875 \nQ 24.265625 6.296875 27.875 6.296875 \nQ 34.515625 6.296875 38.296875 9.5625 \nQ 42.09375 12.84375 42.09375 19.28125 \nQ 42.09375 23.09375 40.40625 25.40625 \nQ 38.71875 27.734375 36.203125 29.03125 \nQ 33.6875 30.328125 30.734375 30.765625 \nQ 27.78125 31.203125 25.296875 31.203125 \nL 20.3125 31.203125 \nL 20.3125 38.8125 \nL 25.09375 38.8125 \nQ 27.59375 38.8125 30.265625 39.328125 \nQ 32.953125 39.84375 35.171875 41.1875 \nQ 37.40625 42.53125 38.84375 44.828125 \nQ 40.28125 47.125 40.28125 50.6875 \nQ 40.28125 56.203125 37.03125 59.390625 \nQ 33.796875 62.59375 27.390625 62.59375 \nQ 21.578125 62.59375 17.984375 59.609375 \nQ 14.40625 56.640625 13.8125 51.21875 \nL 4.984375 51.90625 \nQ 5.515625 56.453125 7.46875 59.8125 \nQ 9.421875 63.1875 12.421875 65.40625 \nQ 15.4375 67.625 19.28125 68.71875 \nQ 23.140625 69.828125 27.484375 69.828125 \nQ 33.25 69.828125 37.390625 68.375 \nQ 41.546875 66.9375 44.1875 64.46875 \nQ 46.828125 62.015625 48.0625 58.6875 \nQ 49.3125 55.375 49.3125 51.609375 \nQ 49.3125 48.578125 48.484375 45.9375 \nQ 47.65625 43.3125 45.890625 41.203125 \nQ 44.140625 39.109375 41.421875 37.59375 \nQ 38.71875 36.078125 34.90625 35.296875 \nL 34.90625 35.109375 \nQ 39.0625 34.671875 42.140625 33.21875 \nQ 45.21875 31.78125 47.21875 29.625 \nQ 49.21875 27.484375 50.21875 24.75 \nQ 51.21875 22.015625 51.21875 19 \nz\n\" id=\"LiberationSans-51\"/>\n      </defs>\n      <g style=\"fill:#262626;\" transform=\"translate(7.2 161.47162)scale(0.1 -0.1)\">\n       <use xlink:href=\"#LiberationSans-49\"/>\n       <use x=\"55.615234\" xlink:href=\"#LiberationSans-51\"/>\n       <use x=\"111.230469\" xlink:href=\"#LiberationSans-48\"/>\n      </g>\n     </g>\n    </g>\n    <g id=\"ytick_5\">\n     <g id=\"line2d_21\">\n      <path clip-path=\"url(#p16ecf91752)\" d=\"M 30.882812 118.587747 \nL 477.282812 118.587747 \n\" style=\"fill:none;stroke:#ffffff;stroke-linecap:round;\"/>\n     </g>\n     <g id=\"line2d_22\"/>\n     <g id=\"text_11\">\n      <!-- 140 -->\n      <g style=\"fill:#262626;\" transform=\"translate(7.2 122.211184)scale(0.1 -0.1)\">\n       <use xlink:href=\"#LiberationSans-49\"/>\n       <use x=\"55.615234\" xlink:href=\"#LiberationSans-52\"/>\n       <use x=\"111.230469\" xlink:href=\"#LiberationSans-48\"/>\n      </g>\n     </g>\n    </g>\n    <g id=\"ytick_6\">\n     <g id=\"line2d_23\">\n      <path clip-path=\"url(#p16ecf91752)\" d=\"M 30.882812 79.32731 \nL 477.282812 79.32731 \n\" style=\"fill:none;stroke:#ffffff;stroke-linecap:round;\"/>\n     </g>\n     <g id=\"line2d_24\"/>\n     <g id=\"text_12\">\n      <!-- 150 -->\n      <defs>\n       <path d=\"M 51.421875 22.40625 \nQ 51.421875 17.234375 49.859375 12.9375 \nQ 48.296875 8.640625 45.21875 5.53125 \nQ 42.140625 2.4375 37.578125 0.71875 \nQ 33.015625 -0.984375 27 -0.984375 \nQ 21.578125 -0.984375 17.546875 0.28125 \nQ 13.53125 1.5625 10.734375 3.78125 \nQ 7.953125 6 6.3125 8.984375 \nQ 4.6875 11.96875 4 15.375 \nL 12.890625 16.40625 \nQ 13.421875 14.453125 14.390625 12.625 \nQ 15.375 10.796875 17.0625 9.34375 \nQ 18.75 7.90625 21.21875 7.046875 \nQ 23.6875 6.203125 27.203125 6.203125 \nQ 30.609375 6.203125 33.390625 7.25 \nQ 36.1875 8.296875 38.15625 10.34375 \nQ 40.140625 12.40625 41.203125 15.375 \nQ 42.28125 18.359375 42.28125 22.21875 \nQ 42.28125 25.390625 41.25 28.046875 \nQ 40.234375 30.71875 38.328125 32.640625 \nQ 36.421875 34.578125 33.65625 35.640625 \nQ 30.90625 36.71875 27.390625 36.71875 \nQ 25.203125 36.71875 23.34375 36.328125 \nQ 21.484375 35.9375 19.890625 35.25 \nQ 18.3125 34.578125 17.015625 33.671875 \nQ 15.71875 32.765625 14.59375 31.78125 \nL 6 31.78125 \nL 8.296875 68.796875 \nL 47.40625 68.796875 \nL 47.40625 61.328125 \nL 16.3125 61.328125 \nL 14.984375 39.5 \nQ 17.328125 41.3125 20.84375 42.59375 \nQ 24.359375 43.890625 29.203125 43.890625 \nQ 34.328125 43.890625 38.421875 42.328125 \nQ 42.53125 40.765625 45.40625 37.90625 \nQ 48.296875 35.0625 49.859375 31.109375 \nQ 51.421875 27.15625 51.421875 22.40625 \nz\n\" id=\"LiberationSans-53\"/>\n      </defs>\n      <g style=\"fill:#262626;\" transform=\"translate(7.2 82.950748)scale(0.1 -0.1)\">\n       <use xlink:href=\"#LiberationSans-49\"/>\n       <use x=\"55.615234\" xlink:href=\"#LiberationSans-53\"/>\n       <use x=\"111.230469\" xlink:href=\"#LiberationSans-48\"/>\n      </g>\n     </g>\n    </g>\n    <g id=\"ytick_7\">\n     <g id=\"line2d_25\">\n      <path clip-path=\"url(#p16ecf91752)\" d=\"M 30.882812 40.066874 \nL 477.282812 40.066874 \n\" style=\"fill:none;stroke:#ffffff;stroke-linecap:round;\"/>\n     </g>\n     <g id=\"line2d_26\"/>\n     <g id=\"text_13\">\n      <!-- 160 -->\n      <g style=\"fill:#262626;\" transform=\"translate(7.2 43.690312)scale(0.1 -0.1)\">\n       <use xlink:href=\"#LiberationSans-49\"/>\n       <use x=\"55.615234\" xlink:href=\"#LiberationSans-54\"/>\n       <use x=\"111.230469\" xlink:href=\"#LiberationSans-48\"/>\n      </g>\n     </g>\n    </g>\n   </g>\n   <g id=\"line2d_27\">\n    <path clip-path=\"url(#p16ecf91752)\" d=\"M 51.173722 229.262916 \nL 55.272895 229.262916 \nL 59.372069 219.565589 \nL 63.471242 219.565589 \nL 67.570416 219.565589 \nL 71.669589 219.565589 \nL 75.768763 167.624031 \nL 79.867936 74.7731 \nL 83.96711 81.290332 \nL 88.066284 81.290332 \nL 92.165457 161.852747 \nL 96.264631 20.79 \nL 100.363804 20.79 \nL 104.462978 20.79 \nL 108.562151 20.79 \nL 112.661325 20.79 \nL 116.760498 175.122775 \nL 120.859672 175.122775 \nL 124.958846 219.526328 \nL 129.058019 219.526328 \nL 133.157193 219.526328 \nL 137.256366 219.526328 \nL 141.35554 219.526328 \nL 145.454713 292.59 \nL 149.553887 31.979224 \nL 153.65306 31.979224 \nL 157.752234 31.979224 \nL 161.851408 31.979224 \nL 165.950581 31.979224 \nL 170.049755 31.979224 \nL 174.148928 31.979224 \nL 178.248102 51.766484 \nL 182.347275 51.766484 \nL 186.446449 51.766484 \nL 190.545622 51.766484 \nL 194.644796 51.766484 \nL 198.74397 279.319973 \nL 202.843143 208.454885 \nL 206.942317 208.454885 \nL 211.04149 192.240325 \nL 215.140664 192.240325 \nL 219.239837 192.240325 \nL 223.339011 192.240325 \nL 227.438184 192.240325 \nL 231.537358 192.240325 \nL 235.636532 192.240325 \nL 239.735705 192.240325 \nL 243.834879 192.240325 \nL 247.934052 192.240325 \nL 252.033226 292.59 \nL 256.132399 292.59 \nL 260.231573 292.59 \nL 264.330746 175.279817 \nL 268.42992 175.279817 \nL 272.529093 175.279817 \nL 276.628267 175.279817 \nL 280.727441 24.480481 \nL 284.826614 24.480481 \nL 288.925788 24.480481 \nL 293.024961 24.480481 \nL 297.124135 65.075772 \nL 301.223308 65.075772 \nL 305.322482 86.001585 \nL 309.421655 82.428885 \nL 313.520829 82.428885 \nL 317.620003 82.428885 \nL 321.719176 82.428885 \nL 325.81835 82.428885 \nL 329.917523 82.428885 \nL 334.016697 82.428885 \nL 338.11587 82.428885 \nL 342.215044 82.428885 \nL 346.314217 82.428885 \nL 350.413391 82.428885 \nL 354.512565 82.428885 \nL 358.611738 82.428885 \nL 362.710912 82.428885 \nL 366.810085 82.428885 \nL 370.909259 82.428885 \nL 375.008432 182.77856 \nL 379.107606 182.77856 \nL 383.206779 182.77856 \nL 387.305953 182.77856 \nL 391.405127 215.953628 \nL 395.5043 215.953628 \nL 399.603474 182.77856 \nL 403.702647 182.77856 \nL 407.801821 182.77856 \nL 411.900994 182.77856 \nL 416.000168 182.77856 \nL 420.099341 182.77856 \nL 424.198515 182.77856 \nL 428.297689 182.77856 \nL 432.396862 190.041741 \nL 436.496036 190.041741 \nL 440.595209 190.041741 \nL 444.694383 190.041741 \nL 448.793556 167.624031 \nL 452.89273 167.624031 \nL 456.991903 167.624031 \n\" style=\"fill:none;stroke:#87ceeb;stroke-linecap:round;stroke-width:1.75;\"/>\n   </g>\n   <g id=\"patch_3\">\n    <path d=\"M 30.882812 306.18 \nL 30.882812 7.2 \n\" style=\"fill:none;\"/>\n   </g>\n   <g id=\"patch_4\">\n    <path d=\"M 477.282812 306.18 \nL 477.282812 7.2 \n\" style=\"fill:none;\"/>\n   </g>\n   <g id=\"patch_5\">\n    <path d=\"M 30.882812 306.18 \nL 477.282812 306.18 \n\" style=\"fill:none;\"/>\n   </g>\n   <g id=\"patch_6\">\n    <path d=\"M 30.882812 7.2 \nL 477.282812 7.2 \n\" style=\"fill:none;\"/>\n   </g>\n  </g>\n </g>\n <defs>\n  <clipPath id=\"p16ecf91752\">\n   <rect height=\"298.98\" width=\"446.4\" x=\"30.882812\" y=\"7.2\"/>\n  </clipPath>\n </defs>\n</svg>\n"
          },
          "metadata": {}
        },
        {
          "output_type": "stream",
          "name": "stdout",
          "text": [
            "[4, 1, 3, 0, 2]\n"
          ]
        }
      ]
    },
    {
      "cell_type": "code",
      "source": [],
      "metadata": {
        "id": "CFXVaU_aAF5K"
      },
      "execution_count": null,
      "outputs": []
    }
  ]
}