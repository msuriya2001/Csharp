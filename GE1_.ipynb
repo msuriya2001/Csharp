{
  "cells": [
    {
      "cell_type": "markdown",
      "metadata": {
        "id": "view-in-github",
        "colab_type": "text"
      },
      "source": [
        "<a href=\"https://colab.research.google.com/github/msuriya2001/Csharp/blob/main/GE1_.ipynb\" target=\"_parent\"><img src=\"https://colab.research.google.com/assets/colab-badge.svg\" alt=\"Open In Colab\"/></a>"
      ]
    },
    {
      "cell_type": "code",
      "source": [
        "#Continuous genetic algorithm \n",
        "#Step1 population initilisation \n",
        "import numpy\n",
        "from numpy.random import randint \n",
        "from random import random as rnd \n",
        "from random import  gauss, randrange\n"
      ],
      "metadata": {
        "id": "iNcjH2QDomQC"
      },
      "execution_count": 1,
      "outputs": []
    },
    {
      "cell_type": "code",
      "source": [
        "#population initilization\n",
        "def individual(number_of_genes, upper_limit, lower_limit):\n",
        "    individual=[round(rnd()*(upper_limit-lower_limit)\n",
        "                +lower_limit,1) for x in range(number_of_genes)]\n",
        "    return individual "
      ],
      "metadata": {
        "id": "hjMcQO19pEft"
      },
      "execution_count": 2,
      "outputs": []
    },
    {
      "cell_type": "code",
      "source": [
        "def individual2(genes, upper_limit, lower_limit):\n",
        "   \n",
        "    assert upper_limit > lower_limit \n",
        "    \n",
        "    individual = [rnd() for _ in range(genes)]\n",
        "    individual = numpy.asarray(individual)\n",
        "    new = (individual / max(individual) ) * max(individual)\n",
        "    new = numpy.append(new, new)\n",
        "    \n",
        "    return new\n"
      ],
      "metadata": {
        "id": "nWYXtXwtpO9N"
      },
      "execution_count": 3,
      "outputs": []
    },
    {
      "cell_type": "code",
      "source": [
        "def population(genes, upper_limit, lower_limit):\n",
        "\n",
        "    tpr = int(input(\"Enter the population required\"))\n",
        "\n",
        "    pop = [0]*tpr\n",
        "\n",
        "    #populating \n",
        "\n",
        "    for i in  range(tpr):\n",
        "        pop[i] = individual(genes, upper_limit, lower_limit)\n",
        "  \n",
        "    \n",
        "    \n",
        "    round_pop = []\n",
        "\n",
        "    for i in pop:\n",
        "        op = []\n",
        "        for j in i:\n",
        "            op.append(round(j))\n",
        "        \n",
        "        round_pop.append(op)\n",
        "\n",
        "\n",
        " \n",
        " \n",
        "    return round_pop, pop"
      ],
      "metadata": {
        "id": "5A1ZWycvpbtZ"
      },
      "execution_count": 4,
      "outputs": []
    },
    {
      "cell_type": "code",
      "source": [
        "#fitness value\n",
        "\n",
        "def fitness(val):\n",
        "    fitness_value = sum(val)\n",
        "    return fitness_value"
      ],
      "metadata": {
        "id": "zPCvqZ4urYz6"
      },
      "execution_count": 5,
      "outputs": []
    },
    {
      "cell_type": "code",
      "source": [
        "\n",
        "round_pop,pop = population(4, 10, 1)"
      ],
      "metadata": {
        "colab": {
          "base_uri": "https://localhost:8080/"
        },
        "id": "XCFkBP3O88JE",
        "outputId": "5d2f0a24-2908-4eb4-f073-e24ca2331559"
      },
      "execution_count": 6,
      "outputs": [
        {
          "name": "stdout",
          "output_type": "stream",
          "text": [
            "Enter the population required8\n"
          ]
        }
      ]
    },
    {
      "cell_type": "code",
      "source": [
        "fitness_ = [fitness(pop[i]) for i in range(len(pop))]\n",
        "fitness_"
      ],
      "metadata": {
        "id": "KAUrqKS78eys",
        "colab": {
          "base_uri": "https://localhost:8080/"
        },
        "outputId": "84ef68d4-f1ee-47b0-bf2d-5748ad105930"
      },
      "execution_count": 7,
      "outputs": [
        {
          "output_type": "execute_result",
          "data": {
            "text/plain": [
              "[28.6,\n",
              " 26.099999999999998,\n",
              " 23.299999999999997,\n",
              " 26.2,\n",
              " 23.799999999999997,\n",
              " 16.2,\n",
              " 29.9,\n",
              " 22.1]"
            ]
          },
          "metadata": {},
          "execution_count": 7
        }
      ]
    },
    {
      "cell_type": "code",
      "source": [
        "# del fitness"
      ],
      "metadata": {
        "id": "s6uDdDGwIrcD"
      },
      "execution_count": 8,
      "outputs": []
    },
    {
      "cell_type": "code",
      "source": [
        "#calculted fitness will be\n",
        "fitness = list(map(lambda x: round(x), fitness_))\n",
        "\n",
        "fitness"
      ],
      "metadata": {
        "colab": {
          "base_uri": "https://localhost:8080/"
        },
        "id": "MkD4ZtxI3aZB",
        "outputId": "80dcd3d4-dd6c-494c-8e70-90978d41d574"
      },
      "execution_count": 8,
      "outputs": [
        {
          "output_type": "execute_result",
          "data": {
            "text/plain": [
              "[29, 26, 23, 26, 24, 16, 30, 22]"
            ]
          },
          "metadata": {},
          "execution_count": 8
        }
      ]
    },
    {
      "cell_type": "code",
      "source": [
        "#fitness normalisation\n",
        "normalised = [1/(1+fitness[i]) for i in range(len(fitness))]\n",
        "total_norm = sum(normalised)"
      ],
      "metadata": {
        "id": "OfCbA_Gl9Osk"
      },
      "execution_count": 9,
      "outputs": []
    },
    {
      "cell_type": "code",
      "source": [
        "Population_ = {e:m for e,m in zip(fitness, round_pop)}\n",
        "\n",
        "Population_"
      ],
      "metadata": {
        "colab": {
          "base_uri": "https://localhost:8080/"
        },
        "id": "i8e3fFM03hRe",
        "outputId": "d6114cc6-1885-4662-c56c-e86a346d7f29"
      },
      "execution_count": 10,
      "outputs": [
        {
          "output_type": "execute_result",
          "data": {
            "text/plain": [
              "{29: [4, 8, 8, 8],\n",
              " 26: [10, 6, 6, 4],\n",
              " 23: [5, 4, 4, 10],\n",
              " 24: [10, 6, 1, 7],\n",
              " 16: [3, 7, 2, 4],\n",
              " 30: [9, 9, 7, 5],\n",
              " 22: [2, 8, 6, 6]}"
            ]
          },
          "metadata": {},
          "execution_count": 10
        }
      ]
    },
    {
      "cell_type": "code",
      "source": [
        "#probabilit distribution\n",
        "probability_distribution = [normalised[i]/total_norm for i in range(len(normalised))]\n",
        "sum(probability_distribution) #very important\n",
        "print(probability_distribution)"
      ],
      "metadata": {
        "colab": {
          "base_uri": "https://localhost:8080/"
        },
        "id": "sFqTdA1HKYr4",
        "outputId": "9b317b09-ae1f-40b2-be6b-249a09c0f2c7"
      },
      "execution_count": 11,
      "outputs": [
        {
          "output_type": "stream",
          "name": "stdout",
          "text": [
            "[0.10299702954372579, 0.1144411439374731, 0.12874628692965723, 0.1144411439374731, 0.12359643545247095, 0.18175946390069259, 0.09967454471973464, 0.13434395157877277]\n"
          ]
        }
      ]
    },
    {
      "cell_type": "code",
      "source": [
        "#cumulative distribution\n",
        "count = 0\n",
        "cum_sum = []\n",
        "for _ in range(len(probability_distribution)):\n",
        "    sum = 0\n",
        "    count = count+ 1\n",
        "    for i in range(count):\n",
        "        sum +=probability_distribution[i]\n",
        "        \n",
        "    \n",
        "    cum_sum.append(sum)\n",
        "\n",
        "print(cum_sum)"
      ],
      "metadata": {
        "colab": {
          "base_uri": "https://localhost:8080/"
        },
        "id": "hQKHXs9gLxzi",
        "outputId": "f1ff168d-2c76-447b-bf64-2f22e12638b2"
      },
      "execution_count": 12,
      "outputs": [
        {
          "output_type": "stream",
          "name": "stdout",
          "text": [
            "[0.10299702954372579, 0.21743817348119887, 0.3461844604108561, 0.4606256043483292, 0.5842220398008002, 0.7659815037014928, 0.8656560484212275, 1.0000000000000002]\n"
          ]
        }
      ]
    },
    {
      "cell_type": "code",
      "source": [
        "#Elitism algorithm for selection process\n",
        "fitness = sorted(fitness, reverse = True)\n",
        "# selecting top 4 parents for crossover\n",
        "parents = []\n",
        "for i in range(2):\n",
        "    parents.append(Population_[fitness[i]])\n",
        "# parents\n",
        " \n",
        "#inorder to not loose the fitest parent we directly make then to the next generation\n",
        "\n",
        "def remove_fittest():\n",
        "    for i in parents:\n",
        "        if i in round_pop:\n",
        "            round_pop.remove(i)\n",
        "    return round_pop\n",
        "\n",
        "parents2 = remove_fittest()\n",
        "parents1 = parents\n",
        "\n",
        "parents2\n",
        "\n",
        "# crossover only parents2 and not parents2 due to Elitism algorithm\n"
      ],
      "metadata": {
        "id": "jni2hmJ_9pgE",
        "colab": {
          "base_uri": "https://localhost:8080/"
        },
        "outputId": "0ef30ac0-2519-47a3-97a6-1c83401ae6f5"
      },
      "execution_count": 30,
      "outputs": [
        {
          "output_type": "execute_result",
          "data": {
            "text/plain": [
              "[[5, 8, 9, 4],\n",
              " [5, 4, 4, 10],\n",
              " [10, 6, 6, 4],\n",
              " [10, 6, 1, 7],\n",
              " [3, 7, 2, 4],\n",
              " [2, 8, 6, 6]]"
            ]
          },
          "metadata": {},
          "execution_count": 30
        }
      ]
    },
    {
      "cell_type": "code",
      "source": [
        "#crossover process\n",
        "def cross_over(parents):\n",
        "    #single point crossover\n",
        "    generation = []\n",
        "    j = 0\n",
        "    for n in range(len(parents)//2):\n",
        "       \n",
        "        child1 = parents[n+j][:2] + parents[n+1+j][2:]\n",
        "        child2 = parents[n+j+1][:2] + parents[n+j][2:]\n",
        "        \n",
        "        generation.append(child1)\n",
        "        generation.append(child2)\n",
        "\n",
        "\n",
        "        j = j + 1\n",
        "\n",
        "\n",
        "    for i in parents1:\n",
        "        generation.append(i)\n",
        "\n",
        "\n",
        "    return generation\n",
        "\n",
        "        \n",
        "        \n",
        "\n",
        "Generation = cross_over(parents2)\n",
        "Generation"
      ],
      "metadata": {
        "id": "PtZTbqOTJVCY",
        "colab": {
          "base_uri": "https://localhost:8080/"
        },
        "outputId": "e24178cd-45f4-46a5-f609-b52891ce02da"
      },
      "execution_count": 44,
      "outputs": [
        {
          "output_type": "execute_result",
          "data": {
            "text/plain": [
              "[[5, 8, 4, 10],\n",
              " [5, 4, 9, 4],\n",
              " [10, 6, 1, 7],\n",
              " [10, 6, 6, 4],\n",
              " [3, 7, 6, 6],\n",
              " [2, 8, 2, 4],\n",
              " [9, 9, 7, 5],\n",
              " [4, 8, 8, 8]]"
            ]
          },
          "metadata": {},
          "execution_count": 44
        }
      ]
    },
    {
      "cell_type": "code",
      "source": [
        "#process of mutation \n",
        "\n",
        "def Mutator(x):\n",
        "    replace = round(rnd()*10) \n",
        "    index = round(rnd()*len(x))\n",
        "    x = x[:index-1] + [replace] + x[index:]\n",
        "    return x\n",
        "\n",
        "GENERATION = list(map(Mutator, Generation))\n",
        "GENERATION\n",
        "\n"
      ],
      "metadata": {
        "colab": {
          "base_uri": "https://localhost:8080/"
        },
        "id": "uk55-2-iTKbW",
        "outputId": "ffdf318a-86e3-4040-a03d-c53029dd4695"
      },
      "execution_count": 43,
      "outputs": [
        {
          "output_type": "execute_result",
          "data": {
            "text/plain": [
              "[[5, 8, 4, 8],\n",
              " [5, 7, 9, 4],\n",
              " [10, 6, 7, 7],\n",
              " [10, 2, 6, 4],\n",
              " [3, 9, 6, 6],\n",
              " [2, 8, 2, 8, 2, 8, 2, 4],\n",
              " [6, 9, 7, 5],\n",
              " [6, 8, 8, 8]]"
            ]
          },
          "metadata": {},
          "execution_count": 43
        }
      ]
    },
    {
      "cell_type": "code",
      "source": [
        "#iterate the steps for 30 times \n",
        "\n",
        "#for binary optimisation the genes would be 0's and 1's\n",
        "\n",
        "#Thank YOu\n"
      ],
      "metadata": {
        "id": "ZC_AYKU93Nqd"
      },
      "execution_count": null,
      "outputs": []
    }
  ],
  "metadata": {
    "colab": {
      "provenance": [],
      "authorship_tag": "ABX9TyMT0WeQB1FUcUGjQAJihkEO",
      "include_colab_link": true
    },
    "kernelspec": {
      "display_name": "Python 3",
      "name": "python3"
    },
    "language_info": {
      "name": "python"
    }
  },
  "nbformat": 4,
  "nbformat_minor": 0
}